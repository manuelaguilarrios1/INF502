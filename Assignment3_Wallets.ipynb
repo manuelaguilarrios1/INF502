{
  "nbformat": 4,
  "nbformat_minor": 0,
  "metadata": {
    "colab": {
      "name": "Assignment3_Wallets.ipynb",
      "provenance": []
    },
    "kernelspec": {
      "name": "python3",
      "display_name": "Python 3"
    }
  },
  "cells": [
    {
      "cell_type": "markdown",
      "metadata": {
        "id": "i-RD59OfjiP-",
        "colab_type": "text"
      },
      "source": [
        "# Homework 3 Wallets.ipynb"
      ]
    },
    {
      "cell_type": "markdown",
      "metadata": {
        "id": "15z8yMzMfstW",
        "colab_type": "text"
      },
      "source": [
        "This chunk of code will create an empty array of 5. It will then enter a for loop of 5 iterations. At the start of each iteration, the typeWallet variable will be initialized to str so that the we can go into the while loop. Inside the while loop the code will try prompting the user for a float value for a specific wallet. If the user enters something else, like a str, it will then become a value error and execute the except which will give an error message and set typeWallet to str. Setting the typeWallet to str will bring us back to through the while loop and ask the user for a float value for that specific wallet. This will happen for 5 wallet values and give us a list of 5 wallets.  "
      ]
    },
    {
      "cell_type": "code",
      "metadata": {
        "id": "FbOfNedxfPNC",
        "colab_type": "code",
        "colab": {
          "base_uri": "https://localhost:8080/",
          "height": 146
        },
        "outputId": "db0caeae-7cd6-470c-8872-fc6f2b8d0ed9"
      },
      "source": [
        "wallets = [0]*5 #This creates an empty list of 5 for our user's wallets\n",
        "for i in range(5): # This will loop 5 times and ask for the user for a value for each wallet\n",
        "    typeWallet = str\n",
        "    while typeWallet != float:\n",
        "        try:\n",
        "            wallets[i] = float(input(\"Enter your value for wallet \" + str((i+1)) + \": \")) #Will place the value given by the user in the wallets list\n",
        "            typeWallet = type(wallets[i])\n",
        "        except ValueError:\n",
        "            print(\"Please enter an integer or a float value for wallet \" + str((i+1)) + \": \")\n",
        "            typeWallet = str"
      ],
      "execution_count": 1,
      "outputs": [
        {
          "output_type": "stream",
          "text": [
            "Enter your value for wallet 1: 45\n",
            "Enter your value for wallet 2: ty\n",
            "Please enter an integer or a float value for wallet 2: \n",
            "Enter your value for wallet 2: 34\n",
            "Enter your value for wallet 3: 34\n",
            "Enter your value for wallet 4: 34\n",
            "Enter your value for wallet 5: 34\n"
          ],
          "name": "stdout"
        }
      ]
    },
    {
      "cell_type": "markdown",
      "metadata": {
        "id": "TVDeEjDJhuuf",
        "colab_type": "text"
      },
      "source": [
        "In this next chunk of code, the wallet values will be sorted using the sort() function. This will make it so that the list is sorted from lowest to highest. I will then print the value of the fattest wallet by taking the index wallets[-1]. wallets[-1] will give us what is at the end of a list and since the end of the wallets list is the wallet with the highest value, it is the fattest wallet. I will use wallets[0] to get the first (skinniest wallet) value and use the sum and multiplication fucntions to get the total value and total dimes messages. I will also format the wallets using the {:.2f} to make the wallet values only have two decimal places."
      ]
    },
    {
      "cell_type": "code",
      "metadata": {
        "id": "nBckbZDohuFs",
        "colab_type": "code",
        "colab": {
          "base_uri": "https://localhost:8080/",
          "height": 90
        },
        "outputId": "3719b10b-a491-4085-e878-dc2a61836513"
      },
      "source": [
        "wallets.sort() #Will sort the wallet values from least to greatest\n",
        "print(\"The fattest wallet has $\" + \"{:.2f}\".format(wallets[-1]) + \" in it\") #Will print the last value in the list by indexing -1, and format the value to a string with two decimal places\n",
        "print(\"The skinniest wallet has $\" + \"{:.2f}\".format(wallets[0]) + \" in it\")#Will prin the first value which is the least\n",
        "print(\"All together, these wallets have $\" + \"{:.2f}\".format(sum(wallets)) + \" in them\")\n",
        "print(\"All together, the total value of these wallets is worth \" + \"{:.2f}\".format(sum(wallets)*10) + \" dimes \")"
      ],
      "execution_count": 2,
      "outputs": [
        {
          "output_type": "stream",
          "text": [
            "The fattest wallet has $45.00 in it\n",
            "The skinniest wallet has $34.00 in it\n",
            "All together, these wallets have $181.00 in them\n",
            "All together, the total value of these wallets is worth 1810.00 dimes \n"
          ],
          "name": "stdout"
        }
      ]
    }
  ]
}