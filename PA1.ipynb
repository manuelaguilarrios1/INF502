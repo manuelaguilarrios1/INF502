{
  "nbformat": 4,
  "nbformat_minor": 0,
  "metadata": {
    "colab": {
      "name": "PA1.ipynb",
      "provenance": [],
      "toc_visible": true
    },
    "kernelspec": {
      "name": "python3",
      "display_name": "Python 3"
    }
  },
  "cells": [
    {
      "cell_type": "markdown",
      "metadata": {
        "id": "QXdBe2caaISJ"
      },
      "source": [
        "# PA1 DNA Similarity\n",
        "The goal of the of this project is to get two DNA sequences from two files and seeing how many DNA characters match using two different matching methods, number of matches and maximum contiguous chain. \n",
        "For both these methods, a user input max shift is needed to add into the mathcing methods. The approach I took with this project is to compare two list of strings with a different function with for each matching method.\n",
        "For the number of matches method, a for loop check each char in both sequences and see if they match. If they match, a match counter increases and the then final match counter will be given as the score.\n",
        "For the maximum contiguous method, a for loop will check each char in both sequences and see if they match. A match counter will increase with each match, but if the char does not match, the match counter will be put in a match counter list and then be reset to 0. \n",
        "To shift the sequences, the appropiate number of spaces will be added to the beginning or the end of the respective list. The two sequences will then be printed out for each shift along with the score so that the user can see the result. The collab link used to work on this file is https://colab.research.google.com/drive/1E-Jf2-jugChoEahbln8XgAPpxwy3xVd5?usp=sharing."
      ]
    },
    {
      "cell_type": "markdown",
      "metadata": {
        "id": "YG9QBfHbFHfH"
      },
      "source": [
        "The split function will split a str into a list of each individual character. "
      ]
    },
    {
      "cell_type": "code",
      "metadata": {
        "id": "q5jjFiFIFDA7"
      },
      "source": [
        "def split(word):\n",
        "    return [char for char in word]"
      ],
      "execution_count": 1,
      "outputs": []
    },
    {
      "cell_type": "markdown",
      "metadata": {
        "id": "l4JUWMGXFQS1"
      },
      "source": [
        "The open file function will read a file, and then split into a list of each individual character. "
      ]
    },
    {
      "cell_type": "code",
      "metadata": {
        "id": "OrPnake0FOwf"
      },
      "source": [
        "def OpenFile(filename):\n",
        "    f = open(filename, \"r\")\n",
        "    file = f.read()\n",
        "    f.close()\n",
        "    file = split(file)\n",
        "    return file"
      ],
      "execution_count": 2,
      "outputs": []
    },
    {
      "cell_type": "markdown",
      "metadata": {
        "id": "tg5Zm-AvFkAj"
      },
      "source": [
        "The check sequence function will check two sequences and check to see if they are the same length and if either of them have an unknown character. If they are the same length and have no unknown characters, it will return True, otherwise it will return False. "
      ]
    },
    {
      "cell_type": "code",
      "metadata": {
        "id": "Jg9rnu5xFkKx"
      },
      "source": [
        "def checkSequence(file1, file2):\n",
        "    if len(file1) != len(file2):\n",
        "        return False\n",
        "    for i in range(len(file1)):\n",
        "        if file1[i] != 'A' and file1[i] != 'T' and file1[i] != 'G' and file1[i] != 'C':\n",
        "            return False\n",
        "        if file2[i] != 'A' and file2[i] != 'T' and file2[i] != 'G' and file2[i] != 'C':\n",
        "            return False\n",
        "    return True"
      ],
      "execution_count": 3,
      "outputs": []
    },
    {
      "cell_type": "markdown",
      "metadata": {
        "id": "0-NRLlhxznhC"
      },
      "source": [
        "This print sequence function will print a list so that the characters have a space inbetween them."
      ]
    },
    {
      "cell_type": "code",
      "metadata": {
        "id": "iqlUf0Twznpd"
      },
      "source": [
        "def print_sequence(list):\n",
        "    for item in list:\n",
        "        print(item, end=\" \")\n",
        "    print(\" \")"
      ],
      "execution_count": 9,
      "outputs": []
    },
    {
      "cell_type": "markdown",
      "metadata": {
        "id": "QhstzvuiHNhg"
      },
      "source": [
        "The match score function will return the number of matching characters in two sequences. "
      ]
    },
    {
      "cell_type": "code",
      "metadata": {
        "id": "DUstcP0HHOF5"
      },
      "source": [
        "def match_score(s1, s2):\n",
        "    score = 0\n",
        "    for i in range(len(s1)):\n",
        "        if s1[i] == s2[i]:\n",
        "            score = score + 1\n",
        "    return score"
      ],
      "execution_count": 4,
      "outputs": []
    },
    {
      "cell_type": "markdown",
      "metadata": {
        "id": "qNr-_OuLIIfj"
      },
      "source": [
        "The continous score function will return the number of longest chain of matching characters. A match counter will increase everytime a match is detected. Once a match is not detected the match counter will be appended to a match_count list and then be reset. After the every character has been checked, the score_count will be sorted and the highest value will be returned as the continous score. "
      ]
    },
    {
      "cell_type": "code",
      "metadata": {
        "id": "s8ZsrxutIIo1"
      },
      "source": [
        "def continuous_score(s1, s2):\n",
        "    score = 0\n",
        "    score_count = []\n",
        "    for i in range(len(s1)):\n",
        "        if s1[i] == s2[i]:\n",
        "            score = score + 1\n",
        "        else:\n",
        "            score_count.append(score)\n",
        "            score = 0;\n",
        "    score_count.append(score)\n",
        "    score_count.sort()\n",
        "    return score_count[-1]"
      ],
      "execution_count": 5,
      "outputs": []
    },
    {
      "cell_type": "markdown",
      "metadata": {
        "id": "avn4F3lFNtrR"
      },
      "source": [
        "The compare sequences function will compare the sequences and get the matching score. It will loop for the max_shift + 1 times. For the first loop, it will compare the two sequences, and print out the sequences and the score to show the user. For every other loop, it will insert i number of \" \"(spaces) to sequence 1 and append i number of \" \"(spaces) to sequence 2, and then make the correct comparison. It will then print out the shifted strings to the user and the score. Afterwards, it will reset sequence 1 and then insert i number of \" \" spaces to sequence 2 and append i number of \" \" spaces to sequence 1 and then make the correct comparison. Again it will print out the shifted strings and the score to the user. It will also keep track of the highest score that appears with the least amount of shifting, by storing the having a variable called the highest score and by having an array hold the current highest score's position. "
      ]
    },
    {
      "cell_type": "code",
      "metadata": {
        "id": "NOAoWfjdNtAa"
      },
      "source": [
        "def compare_sequences_matches(sequence1, sequence2, max_shift, option):\n",
        "    highest_score = 0\n",
        "    score_loc = []\n",
        "    for j in range(max_shift+1):\n",
        "        if j == 0:\n",
        "            if option == 1:\n",
        "                score = match_score(sequence1, sequence2)\n",
        "                print(\"With no shifting the match score for the DNA sequences is: \"+str(score))\n",
        "                print_sequence(sequence1)\n",
        "                print_sequence(sequence2)\n",
        "                print(\" \")\n",
        "                if score > highest_score:\n",
        "                    highest_score = score\n",
        "                    score_loc = [1, j]\n",
        "            elif option == 2:\n",
        "                score = continuous_score(sequence1, sequence2)\n",
        "                print(\"With no shifting the continous DNA sequence score is: \" + str(score))\n",
        "                print_sequence(sequence1)\n",
        "                print_sequence(sequence2)\n",
        "                print(\" \")\n",
        "                if score > highest_score:\n",
        "                    highest_score = score\n",
        "                    score_loc = [1, j]\n",
        "        else:\n",
        "            #Make copies to avoid changing the original sequences and reset sequences\n",
        "            s1 = sequence1.copy()\n",
        "            s2 = sequence2.copy()\n",
        "            #Left shifting\n",
        "            for i in range(j):\n",
        "                s1.insert(0, \" \")\n",
        "                s2.append(\" \")\n",
        "            if option == 1:\n",
        "                score = match_score(s1,s2)\n",
        "                print(\"By shifting sequence 1 by \" + str(j) + \" the matching score is: \" + str(score))\n",
        "                print(\" \")\n",
        "                if score > highest_score:\n",
        "                    highest_score = score\n",
        "                    score_loc = [1, j]\n",
        "            elif option == 2:\n",
        "                score = continuous_score(s1, s2)\n",
        "                print(\" \")\n",
        "                print(\"By shifting sequence 1 by \" + str(j) + \" the continous score is: \" + str(score))\n",
        "                if score > highest_score:\n",
        "                    highest_score = score\n",
        "                    score_loc = [1, j]\n",
        "            print_sequence(s1)\n",
        "            print_sequence(s2)\n",
        "            print(\" \")\n",
        "            #Reset sequence copies for right shift\n",
        "            s1 = sequence1.copy()\n",
        "            s2 = sequence2.copy()\n",
        "            for i in range(j):\n",
        "                s2.insert(0, \" \")\n",
        "                s1.append(\" \")\n",
        "            if option == 1:\n",
        "                score = match_score(s1, s2)\n",
        "                print(\"By shifting sequence 2 by \" + str(j) + \" the matching score is: \" + str(score))\n",
        "                print(\" \")\n",
        "                if score > highest_score:\n",
        "                    highest_score = score\n",
        "                    score_loc = [2, j]\n",
        "            elif option == 2:\n",
        "                score = continuous_score(s1, s2)\n",
        "                print(\" \")\n",
        "                print(\"By shifting sequence 2 by \" + str(j) + \" the continous score is: \" + str(score))\n",
        "                if score > highest_score:\n",
        "                    highest_score = score\n",
        "                    score_loc = [2, j]\n",
        "            print_sequence(s1)\n",
        "            print_sequence(s2)\n",
        "            print(\" \")\n",
        "    print(\"The highest score, \" + str(highest_score) + \", can be found be shifting sequence \" + str(score_loc[0])+\" by \" + str(score_loc[1]))\n",
        "    print(\" \")"
      ],
      "execution_count": 6,
      "outputs": []
    },
    {
      "cell_type": "markdown",
      "metadata": {
        "id": "rq_p8Tc__o-A"
      },
      "source": [
        "This function will ask the user for all the needed info. It will get the first sequence file name, the second sequence file name, the max shift. It will also check if the file contents and max shift values are allowed. If the filenames for the sequences are not entered are not found, a while loop will reprompt the user to enter the filename again until a file is found. If the max shift is bigger than the length of one of the files or if the user enters something that is not an integer, a while loop will reprompt the user to reenter the max shift. Next a function called check sequences will check to see if there any errors in the sequences. If no errors are found a True will be returned, otherwise a Flase will be returned. A list with sequence 1, sequence 2, max shift, and True or False will be returned.  "
      ]
    },
    {
      "cell_type": "code",
      "metadata": {
        "id": "WTZBRMln_bfK"
      },
      "source": [
        "def AskForInfo():\n",
        "    file1 = \"Error\"\n",
        "    while file1 == \"Error\":\n",
        "        try:\n",
        "            a = str(input(\"Please enter the name of the file for sequence 1: \"))\n",
        "            file1 = OpenFile(a)\n",
        "        except FileNotFoundError:\n",
        "            print(\"That file was not found, please enter a valid file name\")\n",
        "            file1 = \"Error\"\n",
        "    file2 = \"Error\"\n",
        "    while file2 == \"Error\":\n",
        "        try:\n",
        "            b = str(input(\"Please enter the name of the file for sequence 2: \"))\n",
        "            file2 = OpenFile(b)\n",
        "        except FileNotFoundError:\n",
        "            print(\"That file was not found, please enter a valid file name\")\n",
        "            file2 = \"Error\"\n",
        "    max_shift = \"Error\"\n",
        "    while max_shift == \"Error\":\n",
        "        try:\n",
        "            max_shift = int(input(\"Please enter the maximum shift: \"))\n",
        "            if max_shift > len(file1) or max_shift > len(file2):\n",
        "                print(\"Max shift cannot be greater than the length of any of the files\")\n",
        "                max_shift = \"Error\"\n",
        "        except (ValueError, TypeError):\n",
        "            print(\"Please enter an integer number\")\n",
        "            max_shift = \"Error\"\n",
        "    check = checkSequence(file1,file2)\n",
        "    output = [file1, file2, max_shift, check]\n",
        "    return output"
      ],
      "execution_count": 7,
      "outputs": []
    },
    {
      "cell_type": "markdown",
      "metadata": {
        "id": "zN6m9ijmRBcg"
      },
      "source": [
        "This will be the main chunk of code that will be ran. menu_choice will be set to 0 so that it may enter the while loop. Once in, the code will welcome the user to the program and list the options the user can choose from. If the user enters an option that is not an integer or is out of range, the program will till the user there they have entered an invalid option, and pass them on to another while loop, that will reprompt the user to enter his choice until he chooses a valid option. Then the program will check to see if the user choose to exit. If the user did not choose to exit, it will prompt the user for all the necessary information using the AskForInfo() function. It will then use the compare sequences function to make the correct comparison and print the sequences and their scores. After this, it will reprompt the user to enter their choice. If they are done, the user will can choose option 3, otherwise they can keep making comparisons. "
      ]
    },
    {
      "cell_type": "code",
      "metadata": {
        "id": "L5SUSvuDyrH5",
        "outputId": "2930c7ac-7f92-41a8-ce53-897d938ba6cc",
        "colab": {
          "base_uri": "https://localhost:8080/"
        }
      },
      "source": [
        "menu_choice = 0\n",
        "while menu_choice != 3:\n",
        "    print(\"Welcome, this program will open two files of your choosing and compare the DNA sequences found inside them\")\n",
        "\n",
        "    print('Please pick one of the following options by entering the respective number:')\n",
        "    print(\"1. Compare two DNA sequences using the number of matches method.\")\n",
        "    print(\"2. Compare two DNA sequences using the maximum contiguous chain method.\")\n",
        "    print(\"3. Exit the program.\")\n",
        "    try:\n",
        "        menu_choice = int(input(\"Your input: \"))\n",
        "    except (ValueError, TypeError):\n",
        "        print(\"Whoops, you entered an invalid option!\")\n",
        "        menu_choice = 0\n",
        "    while menu_choice < 1 or menu_choice > 3:\n",
        "        try:\n",
        "            menu_choice = input(\"Please enter a valid option: \")\n",
        "            menu_choice = int(menu_choice)\n",
        "        except (ValueError, TypeError):\n",
        "            print(\"Whoops, you entered an invalid option!\")\n",
        "            menu_choice = 0\n",
        "    if menu_choice != 3:\n",
        "        output = AskForInfo()\n",
        "        if output[3]:\n",
        "            compare_sequences_matches(output[0],output[1],output[2], menu_choice)\n",
        "        else:\n",
        "            print(\"There is an error in the sequences, either they do not match in length or one of them has an unknown character in it\")"
      ],
      "execution_count": 10,
      "outputs": [
        {
          "output_type": "stream",
          "text": [
            "Welcome, this program will open two files of your choosing and compare the DNA sequences found inside them\n",
            "Please pick one of the following options by entering the respective number:\n",
            "1. Compare two DNA sequences using the number of matches method.\n",
            "2. Compare two DNA sequences using the maximum contiguous chain method.\n",
            "3. Exit the program.\n",
            "Your input: 2\n",
            "Please enter the name of the file for sequence 1: seq1.txt\n",
            "Please enter the name of the file for sequence 2: seq2.txt\n",
            "Please enter the maximum shift: 4\n",
            "With no shifting the continous DNA sequence score is: 1\n",
            "A C T G A C T T T T  \n",
            "T T T A G C C G A T  \n",
            " \n",
            " \n",
            "By shifting sequence 1 by 1 the continous score is: 1\n",
            "  A C T G A C T T T T  \n",
            "T T T A G C C G A T    \n",
            " \n",
            " \n",
            "By shifting sequence 2 by 1 the continous score is: 1\n",
            "A C T G A C T T T T    \n",
            "  T T T A G C C G A T  \n",
            " \n",
            " \n",
            "By shifting sequence 1 by 2 the continous score is: 1\n",
            "    A C T G A C T T T T  \n",
            "T T T A G C C G A T      \n",
            " \n",
            " \n",
            "By shifting sequence 2 by 2 the continous score is: 1\n",
            "A C T G A C T T T T      \n",
            "    T T T A G C C G A T  \n",
            " \n",
            " \n",
            "By shifting sequence 1 by 3 the continous score is: 1\n",
            "      A C T G A C T T T T  \n",
            "T T T A G C C G A T        \n",
            " \n",
            " \n",
            "By shifting sequence 2 by 3 the continous score is: 0\n",
            "A C T G A C T T T T        \n",
            "      T T T A G C C G A T  \n",
            " \n",
            " \n",
            "By shifting sequence 1 by 4 the continous score is: 2\n",
            "        A C T G A C T T T T  \n",
            "T T T A G C C G A T          \n",
            " \n",
            " \n",
            "By shifting sequence 2 by 4 the continous score is: 1\n",
            "A C T G A C T T T T          \n",
            "        T T T A G C C G A T  \n",
            " \n",
            "The highest score, 2, can be found be shifting sequence 1 by 4\n",
            " \n",
            "Welcome, this program will open two files of your choosing and compare the DNA sequences found inside them\n",
            "Please pick one of the following options by entering the respective number:\n",
            "1. Compare two DNA sequences using the number of matches method.\n",
            "2. Compare two DNA sequences using the maximum contiguous chain method.\n",
            "3. Exit the program.\n",
            "Your input: 3\n"
          ],
          "name": "stdout"
        }
      ]
    }
  ]
}